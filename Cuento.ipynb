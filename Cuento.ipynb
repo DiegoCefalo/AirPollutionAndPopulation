{
 "cells": [
  {
   "cell_type": "markdown",
   "id": "b6b60b2d-7ec3-45fb-927d-119da9f3169b",
   "metadata": {},
   "source": [
    "# Air Pollution and Population"
   ]
  },
  {
   "cell_type": "markdown",
   "id": "fd2e2ad1-ffff-4d6f-9642-f81a77c3e62f",
   "metadata": {},
   "source": [
    "![pollution](img/pollution.jpg)"
   ]
  },
  {
   "cell_type": "markdown",
   "id": "d3d647bd-73c9-4e3b-a740-b87e7b6b5d4a",
   "metadata": {},
   "source": [
    "    Se ha sabido por varias décadas sobre el impacto que ha tenido el ser humano sobre el planeta tierra, entre las consecuencias mas destacables se encuentra la contaminación del aire, producto de las propias actividades del desarrollo de sociedad humana. Debido al crecimiento exponencial de la población, para poder satisfacer las necesidades energéticas de esta, se ha incrementado la emisión de gases nocivos para el planeta, comparado con hace cien años. Aunque hoy en día existe un esfuezo global para limitar la emisión de estos gases, todavía falta mucho para llegar a un punto donde se obtenga un 100% de energía renovable.\n",
    "    El siguiente estudio se concentra en la relacióin entre el crecimiento poblacional de Estados Unidos y la contaminación de su aire a través de los años.\n",
    "    "
   ]
  },
  {
   "cell_type": "markdown",
   "id": "7ca363ab-07ef-42c8-a903-aa5b3df47113",
   "metadata": {},
   "source": [
    "Todos los datos fueron obtenidos de:"
   ]
  },
  {
   "cell_type": "markdown",
   "id": "7f5a339c-7ec3-4642-bef6-bb6169de4c01",
   "metadata": {},
   "source": [
    "* [Datos Air pollution](https://www.kaggle.com/threnjen/40-years-of-air-quality-index-from-the-epa-yearly)\n",
    "* [Datos Población](https://www.worldometers.info/world-population/us-population/)"
   ]
  },
  {
   "cell_type": "markdown",
   "id": "c784089c-8348-4ef0-8f40-551233532008",
   "metadata": {},
   "source": [
    "## Aumento de la población por año"
   ]
  },
  {
   "cell_type": "markdown",
   "id": "cfb7c56e-9aaf-483a-8034-9801871a2dd4",
   "metadata": {},
   "source": [
    "El siguiente gráfico muestra como la población de Estados Unidos ha aumentado con los años:"
   ]
  },
  {
   "cell_type": "markdown",
   "id": "c11b16a5-e856-44be-9683-f4ed3f715cad",
   "metadata": {},
   "source": [
    "![grafico1](img/gráfico1.jpg)"
   ]
  },
  {
   "cell_type": "markdown",
   "id": "ff02b694-c8e6-4e2a-add7-0f21f7238d56",
   "metadata": {},
   "source": [
    "Se puede observar un aumento considerable desde 1950 hasta el presente"
   ]
  },
  {
   "cell_type": "markdown",
   "id": "3fa7f595-3b97-4362-b6ca-605ea81a4bcc",
   "metadata": {},
   "source": [
    "Por otro lado, tenemos la \"Median Air Quality Index\" de los Estados Unidos desde 1980 hasta el presente (menor número significa menos contaminantes):"
   ]
  },
  {
   "cell_type": "markdown",
   "id": "f6906542-415a-41b2-b967-dee669568ee4",
   "metadata": {},
   "source": [
    "![grafico2](img/gráfico2.jpg)"
   ]
  },
  {
   "cell_type": "markdown",
   "id": "72260fb7-eb86-4b1e-acc2-6e8fbc2e8fe9",
   "metadata": {},
   "source": [
    "Pues podría decirse que existe una correlación negativa entre la población y la calidad del aire basándonos en las gráficas, sin embargo, puede que la razón sea por la promoción de métodos de obtención de energías renovables y de reducción de emisiones en general de las últimas decadas."
   ]
  },
  {
   "cell_type": "markdown",
   "id": "bb8ef3de-9465-406c-a6fd-be122c8f4ce5",
   "metadata": {},
   "source": [
    "## Otros datos interesantes"
   ]
  },
  {
   "cell_type": "markdown",
   "id": "880adf64-88fd-4dcb-b37f-9b5330422df6",
   "metadata": {},
   "source": [
    " Por lo general, el aire en Estados Unidos el aire suele tener bajos niveles de contaminantes. Aunque en un tercio de los datos obtenidos, el aire podría esta en mejores condiciones:"
   ]
  },
  {
   "cell_type": "markdown",
   "id": "e454674f-e3f2-42a1-b16d-e204f314cf93",
   "metadata": {},
   "source": [
    "![grafico3](img/gráfico3.jpg)"
   ]
  },
  {
   "cell_type": "markdown",
   "id": "d84d135e-aab7-4ee0-97d3-be58a4372712",
   "metadata": {},
   "source": [
    "Finalmente, en la siguiente gráfica se muestra que el estado con la pero calidad del aire es \"County of Mexico\" y el que tiene la mejor calidad del aire es \"Alaska\":"
   ]
  },
  {
   "cell_type": "markdown",
   "id": "ba83a2cf-fb65-4d8f-9611-ae64c1b0370f",
   "metadata": {},
   "source": [
    "![grafico4](img/gráfico4.jpg)"
   ]
  },
  {
   "cell_type": "markdown",
   "id": "1f5468b7-4a6c-42ba-9313-a5de6e1aab7b",
   "metadata": {},
   "source": [
    "Así que si quieres respirar aire fresco en Estados Unidos, mejor te llevas un abrigo."
   ]
  },
  {
   "cell_type": "code",
   "execution_count": null,
   "id": "74e05b7a-3b60-4bfd-a1b6-22bd4728a7dd",
   "metadata": {},
   "outputs": [],
   "source": []
  }
 ],
 "metadata": {
  "kernelspec": {
   "display_name": "ironhack",
   "language": "python",
   "name": "ironhack"
  },
  "language_info": {
   "codemirror_mode": {
    "name": "ipython",
    "version": 3
   },
   "file_extension": ".py",
   "mimetype": "text/x-python",
   "name": "python",
   "nbconvert_exporter": "python",
   "pygments_lexer": "ipython3",
   "version": "3.9.6"
  }
 },
 "nbformat": 4,
 "nbformat_minor": 5
}
